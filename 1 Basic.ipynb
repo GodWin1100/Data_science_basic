{
 "cells": [
  {
   "cell_type": "markdown",
   "metadata": {},
   "source": [
    "# Shivam Panchal\n",
    "## Shivam Panchal\n",
    "### Shivam Panchal\n",
    "#### Shivam Panchal\n",
    "##### Shivam Panchal\n",
    "###### Shivam Panchal"
   ]
  },
  {
   "cell_type": "code",
   "execution_count": 1,
   "metadata": {},
   "outputs": [
    {
     "name": "stdout",
     "output_type": "stream",
     "text": [
      "35\n",
      "<class 'int'>\n"
     ]
    }
   ],
   "source": [
    "print(35)\n",
    "print(type(35))"
   ]
  },
  {
   "cell_type": "code",
   "execution_count": 2,
   "metadata": {},
   "outputs": [
    {
     "name": "stdout",
     "output_type": "stream",
     "text": [
      "35\n",
      "<class 'int'>\n",
      "9.99\n",
      "<class 'float'>\n",
      "hell\n",
      "<class 'str'>\n"
     ]
    }
   ],
   "source": [
    "val1=35\n",
    "val2=9.99\n",
    "val3='hell'\n",
    "print(val1)\n",
    "print(type(val1))\n",
    "print(val2)\n",
    "print(type(val2))\n",
    "print(val3)\n",
    "print(type(val3))"
   ]
  },
  {
   "cell_type": "code",
   "execution_count": 4,
   "metadata": {},
   "outputs": [
    {
     "name": "stdout",
     "output_type": "stream",
     "text": [
      "<class 'bool'>\n",
      "boolean1 = True <class 'bool'> \n",
      "boolean2 = False <class 'bool'>\n"
     ]
    }
   ],
   "source": [
    "boolean1=True\n",
    "print(type(boolean1))\n",
    "boolean2=False\n",
    "print('boolean1 =',boolean1,type(boolean1),'\\nboolean2 =',boolean2,type(boolean2))"
   ]
  },
  {
   "cell_type": "markdown",
   "metadata": {},
   "source": [
    "# User Input"
   ]
  },
  {
   "cell_type": "code",
   "execution_count": 7,
   "metadata": {},
   "outputs": [
    {
     "name": "stdout",
     "output_type": "stream",
     "text": [
      "Enter your name : Shivam Panchal\n"
     ]
    }
   ],
   "source": [
    "user_input=input('Enter your name : ')"
   ]
  },
  {
   "cell_type": "code",
   "execution_count": 8,
   "metadata": {},
   "outputs": [
    {
     "name": "stdout",
     "output_type": "stream",
     "text": [
      "<class 'str'>\n"
     ]
    }
   ],
   "source": [
    "print(type(user_input))"
   ]
  },
  {
   "cell_type": "markdown",
   "metadata": {},
   "source": [
    "# Lists"
   ]
  },
  {
   "cell_type": "code",
   "execution_count": 9,
   "metadata": {},
   "outputs": [
    {
     "name": "stdout",
     "output_type": "stream",
     "text": [
      "[1, 2.2, 'Tramp', True]\n",
      "<class 'list'>\n"
     ]
    }
   ],
   "source": [
    "list1=[1,2.2,'Tramp',True]\n",
    "print(list1)\n",
    "print(type(list1))"
   ]
  },
  {
   "cell_type": "code",
   "execution_count": 11,
   "metadata": {},
   "outputs": [
    {
     "name": "stdout",
     "output_type": "stream",
     "text": [
      "Enter what you want to BUY : food\n",
      "['food']\n",
      "Enter what you want to BUY : cloth\n",
      "['food', 'cloth']\n",
      "Enter what you want to BUY : shelter\n",
      "['food', 'cloth', 'shelter']\n",
      "Enter what you want to BUY : chocolate\n",
      "['food', 'cloth', 'shelter', 'chocolate']\n",
      "Enter what you want to BUY : sweet\n",
      "['food', 'cloth', 'shelter', 'chocolate', 'sweet']\n",
      "Enter what you want to BUY : robot\n",
      "['food', 'cloth', 'shelter', 'chocolate', 'sweet', 'robot']\n",
      "Enter what you want to BUY : watch\n",
      "['food', 'cloth', 'shelter', 'chocolate', 'sweet', 'robot', 'watch']\n",
      "Enter what you want to BUY : bike\n",
      "['food', 'cloth', 'shelter', 'chocolate', 'sweet', 'robot', 'watch', 'bike']\n",
      "\n",
      "\n",
      "\n",
      "Done with your List of Items\n",
      "\n",
      "\n",
      "Your list consists of :  ['food', 'cloth', 'shelter', 'chocolate', 'sweet', 'robot', 'watch', 'bike']\n"
     ]
    }
   ],
   "source": [
    "shopitems=[]\n",
    "maxlength=8\n",
    "while len(shopitems)<maxlength:\n",
    "    item=input('Enter what you want to BUY : ')\n",
    "    shopitems.append(item)\n",
    "    print(shopitems)\n",
    "print('\\n\\n\\nDone with your List of Items\\n\\n')\n",
    "print('Your list consists of : ',shopitems)"
   ]
  },
  {
   "cell_type": "markdown",
   "metadata": {},
   "source": [
    "# Dictionary"
   ]
  },
  {
   "cell_type": "code",
   "execution_count": 1,
   "metadata": {},
   "outputs": [
    {
     "ename": "SyntaxError",
     "evalue": "invalid syntax (<ipython-input-1-50e3ab2ea9ba>, line 1)",
     "output_type": "error",
     "traceback": [
      "\u001b[1;36m  File \u001b[1;32m\"<ipython-input-1-50e3ab2ea9ba>\"\u001b[1;36m, line \u001b[1;32m1\u001b[0m\n\u001b[1;33m    dict1={'Mumbai':'Economic Capital','e',1:'Natural Number'}\u001b[0m\n\u001b[1;37m                                          ^\u001b[0m\n\u001b[1;31mSyntaxError\u001b[0m\u001b[1;31m:\u001b[0m invalid syntax\n"
     ]
    }
   ],
   "source": [
    "dict1={'Mumbai':'Economic Capital','e':2.71828,1:'Natural Number'}\n",
    "print(dict1)\n",
    "print(type(dict1))"
   ]
  },
  {
   "cell_type": "code",
   "execution_count": 18,
   "metadata": {},
   "outputs": [
    {
     "name": "stdout",
     "output_type": "stream",
     "text": [
      "Enter number of items you want to shop : 2\n",
      "Enter the Name of Person : boy\n",
      "Enter the Item Name : ring\n",
      "{'boy': 'ring'}\n",
      "\n",
      "\n",
      "\n",
      "\n",
      "\n",
      "Done with Dictionary of items\n",
      "\n",
      "\n",
      "Enter the Name of Person : girl\n",
      "Enter the Item Name : rose\n",
      "{'boy': 'ring', 'girl': 'rose'}\n",
      "\n",
      "\n",
      "\n",
      "\n",
      "\n",
      "Done with Dictionary of items\n",
      "\n",
      "\n",
      "\n",
      "\n",
      "\n",
      " dict_keys(['boy', 'girl'])\n",
      "dict_values(['ring', 'rose'])\n"
     ]
    }
   ],
   "source": [
    "shopitems={}\n",
    "maxlength=int(input('Enter number of items you want to shop : '))\n",
    "while len(shopitems)<maxlength:\n",
    "    key=input('Enter the Name of Person : ')\n",
    "    value=input('Enter the Item Name : ')\n",
    "    shopitems[key]=value\n",
    "    print(shopitems)\n",
    "    print('\\n')\n",
    "    print('\\n\\n\\nDone with Dictionary of items\\n\\n')\n",
    "print('\\n\\n\\n',shopitems.keys())\n",
    "print(shopitems.values())"
   ]
  },
  {
   "cell_type": "markdown",
   "metadata": {},
   "source": [
    "# 'if','else' and 'elif' conditionals\n"
   ]
  },
  {
   "cell_type": "code",
   "execution_count": 22,
   "metadata": {},
   "outputs": [
    {
     "name": "stdout",
     "output_type": "stream",
     "text": [
      "Enter your name here : Shivam\n",
      "Enter your age : 8\n",
      "Shivam  you are still young you need to wait more 7 years\n"
     ]
    }
   ],
   "source": [
    "name=input('Enter your name here : ')\n",
    "age=int(input('Enter your age : '))\n",
    "if age<15:\n",
    "    print(name,\" you are still young you need to wait more\",15-age,'years')\n",
    "else:\n",
    "    print('You are welcome')"
   ]
  },
  {
   "cell_type": "code",
   "execution_count": 20,
   "metadata": {},
   "outputs": [
    {
     "name": "stdout",
     "output_type": "stream",
     "text": [
      "Enter your name here : Shivam\n",
      "Enter tour age here : 19\n",
      "You are eligible to vote now\n"
     ]
    }
   ],
   "source": [
    "name=input('Enter your name here : ')\n",
    "age=int(input('Enter tour age here : '))\n",
    "if age <=10:\n",
    "    print('Hmm..',name,'you are too young')\n",
    "elif age>10 and age<18: #elif is used for using condition with else\n",
    "    print(name,'you are still not allowed to vote')\n",
    "else:\n",
    "    print('You are eligible to vote now')"
   ]
  }
 ],
 "metadata": {
  "kernelspec": {
   "display_name": "Python 3",
   "language": "python",
   "name": "python3"
  },
  "language_info": {
   "codemirror_mode": {
    "name": "ipython",
    "version": 3
   },
   "file_extension": ".py",
   "mimetype": "text/x-python",
   "name": "python",
   "nbconvert_exporter": "python",
   "pygments_lexer": "ipython3",
   "version": "3.7.3"
  }
 },
 "nbformat": 4,
 "nbformat_minor": 2
}
